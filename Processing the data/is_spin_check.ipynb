{
 "cells": [
  {
   "cell_type": "code",
   "execution_count": 3,
   "metadata": {},
   "outputs": [],
   "source": [
    "import requests\n",
    "import urllib\n",
    "import pandas as pd\n",
    "from requests_html import HTML\n",
    "from requests_html import HTMLSession"
   ]
  },
  {
   "cell_type": "code",
   "execution_count": 4,
   "metadata": {},
   "outputs": [],
   "source": [
    "def get_source(url):\n",
    "    \"\"\"Return the source code for the provided URL. \n",
    "\n",
    "    Args: \n",
    "        url (string): URL of the page to scrape.\n",
    "\n",
    "    Returns:\n",
    "        response (object): HTTP response object from requests_html. \n",
    "    \"\"\"\n",
    "\n",
    "    try:\n",
    "        session = HTMLSession()\n",
    "        response = session.get(url)\n",
    "        return response\n",
    "\n",
    "    except requests.exceptions.RequestException as e:\n",
    "        print(e)"
   ]
  },
  {
   "cell_type": "code",
   "execution_count": 5,
   "metadata": {},
   "outputs": [],
   "source": [
    "def get_results(query):\n",
    "    \n",
    "    query = urllib.parse.quote_plus(query)\n",
    "    response = get_source(\"https://www.google.co.uk/search?q=\" + query)\n",
    "    \n",
    "    return response"
   ]
  },
  {
   "cell_type": "code",
   "execution_count": 6,
   "metadata": {},
   "outputs": [],
   "source": [
    "def parse_results(response):\n",
    "    \n",
    "    css_identifier_result = \".tF2Cxc\"\n",
    "    css_identifier_title = \"h3\"\n",
    "    css_identifier_link = \".yuRUbf a\"\n",
    "    css_identifier_text = \".IsZvec\"\n",
    "    \n",
    "    results = response.html.find(css_identifier_result)\n",
    "\n",
    "    output = []\n",
    "    \n",
    "    for result in results:\n",
    "\n",
    "        item = result.find(css_identifier_text, first=True).text\n",
    "        \n",
    "        output.append(item)\n",
    "        \n",
    "    return output"
   ]
  },
  {
   "cell_type": "code",
   "execution_count": 7,
   "metadata": {},
   "outputs": [],
   "source": [
    "def google_search(query):\n",
    "    response = get_results(query)\n",
    "    return parse_results(response)"
   ]
  },
  {
   "cell_type": "code",
   "execution_count": 8,
   "metadata": {},
   "outputs": [],
   "source": [
    "spin = [\"spin\", \"break\", \"offbreak\", \"legbreak\", \"off-break\", \"leg-break\", \"orthodox\", \"unorthodox\"]\n",
    "seam = [\"seam\", \"pace\", \"medium\", \"fast\", \"swing\", \"seamer\"]\n",
    "\n",
    "def spin_check(search):\n",
    "    results = google_search(search)\n",
    "    \n",
    "    spin_count = 0\n",
    "    seam_count = 0\n",
    "    \n",
    "    for i in range(len(results)):\n",
    "        \n",
    "        for j in range(len(spin)):\n",
    "            if spin[j] in results[i].lower():\n",
    "                spin_count += 1\n",
    "            else:\n",
    "                pass\n",
    "        \n",
    "        for k in range(len(seam)):\n",
    "            if seam[k] in results[i].lower():\n",
    "                seam_count += 1\n",
    "            else:\n",
    "                pass\n",
    "            \n",
    "    print(spin_count)\n",
    "    print(seam_count)\n",
    "    \n",
    "    if spin_count > seam_count:\n",
    "        return 1\n",
    "    \n",
    "    elif seam_count > spin_count:\n",
    "        return 0\n",
    "    \n",
    "    elif seam_count == spin_count:\n",
    "        return \"Check\""
   ]
  },
  {
   "cell_type": "code",
   "execution_count": 9,
   "metadata": {},
   "outputs": [],
   "source": [
    "bowlers_df = pd.read_csv(\"new_bowlers.csv\")\n",
    "bowlers = bowlers_df['new_players']"
   ]
  },
  {
   "cell_type": "code",
   "execution_count": 18,
   "metadata": {},
   "outputs": [],
   "source": [
    "spin_nospin = []"
   ]
  },
  {
   "cell_type": "code",
   "execution_count": 19,
   "metadata": {},
   "outputs": [
    {
     "name": "stdout",
     "output_type": "stream",
     "text": [
      "0\n",
      "5\n",
      "M Jansen\n",
      "0\n",
      "2\n",
      "KA Jamieson\n",
      "0\n",
      "9\n",
      "JA Richardson\n",
      "0\n",
      "4\n",
      "RP Meredith\n",
      "0\n",
      "7\n",
      "C Sakariya\n",
      "6\n",
      "0\n",
      "Lalit Yadav\n",
      "11\n",
      "0\n",
      "Jalaj S Saxena\n",
      "1\n",
      "11\n",
      "LI Meriwala\n",
      "4\n",
      "0\n",
      "FA Allen\n",
      "7\n",
      "2\n",
      "PWH de Silva\n",
      "0\n",
      "1\n",
      "VR Iyer\n",
      "0\n",
      "4\n",
      "Umran Malik\n",
      "0\n",
      "2\n",
      "Akash Singh\n",
      "0\n",
      "6\n",
      "GHS Garton\n",
      "4\n",
      "2\n",
      "K Yadav\n",
      "0\n",
      "6\n",
      "NT Ellis\n",
      "4\n",
      "2\n",
      "RV Patel\n",
      "1\n",
      "9\n",
      "IC Porel\n",
      "7\n",
      "0\n",
      "AU Rashid\n",
      "0\n",
      "5\n",
      "TH David\n"
     ]
    }
   ],
   "source": [
    "for k in range(20):\n",
    "    test = spin_check(bowlers[k] + \" cricket bowling style\")\n",
    "    spin_nospin.append(test)\n",
    "    print(bowlers[k])"
   ]
  },
  {
   "cell_type": "code",
   "execution_count": 20,
   "metadata": {},
   "outputs": [],
   "source": [
    "spin_dict = {\n",
    "    \"bowler\": bowlers,\n",
    "    \"is_spin\": spin_nospin\n",
    "}"
   ]
  },
  {
   "cell_type": "code",
   "execution_count": 21,
   "metadata": {},
   "outputs": [],
   "source": [
    "spin_df = pd.DataFrame(spin_dict)"
   ]
  },
  {
   "cell_type": "code",
   "execution_count": 22,
   "metadata": {},
   "outputs": [
    {
     "data": {
      "text/html": [
       "<div>\n",
       "<style scoped>\n",
       "    .dataframe tbody tr th:only-of-type {\n",
       "        vertical-align: middle;\n",
       "    }\n",
       "\n",
       "    .dataframe tbody tr th {\n",
       "        vertical-align: top;\n",
       "    }\n",
       "\n",
       "    .dataframe thead th {\n",
       "        text-align: right;\n",
       "    }\n",
       "</style>\n",
       "<table border=\"1\" class=\"dataframe\">\n",
       "  <thead>\n",
       "    <tr style=\"text-align: right;\">\n",
       "      <th></th>\n",
       "      <th>bowler</th>\n",
       "      <th>is_spin</th>\n",
       "    </tr>\n",
       "  </thead>\n",
       "  <tbody>\n",
       "    <tr>\n",
       "      <th>0</th>\n",
       "      <td>M Jansen</td>\n",
       "      <td>0</td>\n",
       "    </tr>\n",
       "    <tr>\n",
       "      <th>1</th>\n",
       "      <td>KA Jamieson</td>\n",
       "      <td>0</td>\n",
       "    </tr>\n",
       "    <tr>\n",
       "      <th>2</th>\n",
       "      <td>JA Richardson</td>\n",
       "      <td>0</td>\n",
       "    </tr>\n",
       "    <tr>\n",
       "      <th>3</th>\n",
       "      <td>RP Meredith</td>\n",
       "      <td>0</td>\n",
       "    </tr>\n",
       "    <tr>\n",
       "      <th>4</th>\n",
       "      <td>C Sakariya</td>\n",
       "      <td>0</td>\n",
       "    </tr>\n",
       "    <tr>\n",
       "      <th>5</th>\n",
       "      <td>Lalit Yadav</td>\n",
       "      <td>1</td>\n",
       "    </tr>\n",
       "    <tr>\n",
       "      <th>6</th>\n",
       "      <td>Jalaj S Saxena</td>\n",
       "      <td>1</td>\n",
       "    </tr>\n",
       "    <tr>\n",
       "      <th>7</th>\n",
       "      <td>LI Meriwala</td>\n",
       "      <td>0</td>\n",
       "    </tr>\n",
       "    <tr>\n",
       "      <th>8</th>\n",
       "      <td>FA Allen</td>\n",
       "      <td>1</td>\n",
       "    </tr>\n",
       "    <tr>\n",
       "      <th>9</th>\n",
       "      <td>PWH de Silva</td>\n",
       "      <td>1</td>\n",
       "    </tr>\n",
       "    <tr>\n",
       "      <th>10</th>\n",
       "      <td>VR Iyer</td>\n",
       "      <td>0</td>\n",
       "    </tr>\n",
       "    <tr>\n",
       "      <th>11</th>\n",
       "      <td>Umran Malik</td>\n",
       "      <td>0</td>\n",
       "    </tr>\n",
       "    <tr>\n",
       "      <th>12</th>\n",
       "      <td>Akash Singh</td>\n",
       "      <td>0</td>\n",
       "    </tr>\n",
       "    <tr>\n",
       "      <th>13</th>\n",
       "      <td>GHS Garton</td>\n",
       "      <td>0</td>\n",
       "    </tr>\n",
       "    <tr>\n",
       "      <th>14</th>\n",
       "      <td>K Yadav</td>\n",
       "      <td>1</td>\n",
       "    </tr>\n",
       "    <tr>\n",
       "      <th>15</th>\n",
       "      <td>NT Ellis</td>\n",
       "      <td>0</td>\n",
       "    </tr>\n",
       "    <tr>\n",
       "      <th>16</th>\n",
       "      <td>RV Patel</td>\n",
       "      <td>1</td>\n",
       "    </tr>\n",
       "    <tr>\n",
       "      <th>17</th>\n",
       "      <td>IC Porel</td>\n",
       "      <td>0</td>\n",
       "    </tr>\n",
       "    <tr>\n",
       "      <th>18</th>\n",
       "      <td>AU Rashid</td>\n",
       "      <td>1</td>\n",
       "    </tr>\n",
       "    <tr>\n",
       "      <th>19</th>\n",
       "      <td>TH David</td>\n",
       "      <td>0</td>\n",
       "    </tr>\n",
       "  </tbody>\n",
       "</table>\n",
       "</div>"
      ],
      "text/plain": [
       "            bowler  is_spin\n",
       "0         M Jansen        0\n",
       "1      KA Jamieson        0\n",
       "2    JA Richardson        0\n",
       "3      RP Meredith        0\n",
       "4       C Sakariya        0\n",
       "5      Lalit Yadav        1\n",
       "6   Jalaj S Saxena        1\n",
       "7      LI Meriwala        0\n",
       "8         FA Allen        1\n",
       "9     PWH de Silva        1\n",
       "10         VR Iyer        0\n",
       "11     Umran Malik        0\n",
       "12     Akash Singh        0\n",
       "13      GHS Garton        0\n",
       "14         K Yadav        1\n",
       "15        NT Ellis        0\n",
       "16        RV Patel        1\n",
       "17        IC Porel        0\n",
       "18       AU Rashid        1\n",
       "19        TH David        0"
      ]
     },
     "execution_count": 22,
     "metadata": {},
     "output_type": "execute_result"
    }
   ],
   "source": [
    "spin_df"
   ]
  },
  {
   "cell_type": "code",
   "execution_count": 24,
   "metadata": {},
   "outputs": [],
   "source": [
    "spin_df.to_csv(\"spin_newbowlers.csv\")"
   ]
  },
  {
   "cell_type": "code",
   "execution_count": 16,
   "metadata": {},
   "outputs": [
    {
     "name": "stdout",
     "output_type": "stream",
     "text": [
      "0\n",
      "5\n"
     ]
    },
    {
     "data": {
      "text/plain": [
       "0"
      ]
     },
     "execution_count": 16,
     "metadata": {},
     "output_type": "execute_result"
    }
   ],
   "source": [
    "spin_check(\"M Jansen cricket bowling style\")"
   ]
  },
  {
   "cell_type": "code",
   "execution_count": 17,
   "metadata": {},
   "outputs": [
    {
     "ename": "NameError",
     "evalue": "name 'spin_nospin' is not defined",
     "output_type": "error",
     "traceback": [
      "\u001b[0;31m---------------------------------------------------------------------------\u001b[0m",
      "\u001b[0;31mNameError\u001b[0m                                 Traceback (most recent call last)",
      "\u001b[0;32m<ipython-input-17-817b398a27f9>\u001b[0m in \u001b[0;36m<module>\u001b[0;34m\u001b[0m\n\u001b[0;32m----> 1\u001b[0;31m \u001b[0mspin_nospin\u001b[0m\u001b[0;34m\u001b[0m\u001b[0;34m\u001b[0m\u001b[0m\n\u001b[0m",
      "\u001b[0;31mNameError\u001b[0m: name 'spin_nospin' is not defined"
     ]
    }
   ],
   "source": [
    "spin_nospin"
   ]
  },
  {
   "cell_type": "code",
   "execution_count": null,
   "metadata": {},
   "outputs": [],
   "source": []
  }
 ],
 "metadata": {
  "kernelspec": {
   "display_name": "Python 3",
   "language": "python",
   "name": "python3"
  },
  "language_info": {
   "codemirror_mode": {
    "name": "ipython",
    "version": 3
   },
   "file_extension": ".py",
   "mimetype": "text/x-python",
   "name": "python",
   "nbconvert_exporter": "python",
   "pygments_lexer": "ipython3",
   "version": "3.8.5"
  }
 },
 "nbformat": 4,
 "nbformat_minor": 4
}
